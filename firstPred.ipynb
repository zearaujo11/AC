{
 "cells": [
  {
   "cell_type": "markdown",
   "metadata": {},
   "source": [
    "## First Prediction on Teams table"
   ]
  },
  {
   "cell_type": "code",
   "execution_count": 47,
   "metadata": {},
   "outputs": [],
   "source": [
    "import pandas as pd\n",
    "\n",
    "pd.set_option('display.max_columns', None)\n",
    "\n",
    "teams_raw = pd.read_csv('basketballPlayoffs/teams.csv', delimiter=\",\")\n",
    "teams = teams_raw.drop(columns=['lgID', 'divID', 'seeded', 'tmORB', 'tmDRB', 'tmTRB', 'opptmORB', 'opptmDRB', 'opptmTRB'])\n",
    "teams = teams.drop(columns=['rank', 'firstRound', 'semis', 'finals'])\n",
    "\n",
    "teams.head()\n",
    "teams.to_csv('teams_final.csv', index=False)"
   ]
  },
  {
   "cell_type": "code",
   "execution_count": 48,
   "metadata": {},
   "outputs": [
    {
     "name": "stdout",
     "output_type": "stream",
     "text": [
      "     year  tmID  franchID  confID playoff  name  o_fgm  o_fga  o_ftm  o_fta   \n",
      "0       9     0         0       0       N     0    895   2258    542    725  \\\n",
      "1      10     0         0       0       Y     0   1089   2428    569    755   \n",
      "2       1     1         1       0       N     1    812   1903    431    577   \n",
      "3       2     1         1       0       Y     1    746   1780    410    528   \n",
      "4       3     1         1       0       Y     1    770   1790    490    663   \n",
      "..    ...   ...       ...     ...     ...   ...    ...    ...    ...    ...   \n",
      "137     6    19        17       0       N    19    847   1968    388    546   \n",
      "138     7    19        17       0       Y    19   1016   2199    528    715   \n",
      "139     8    19        17       0       N    19    877   2170    668    839   \n",
      "140     9    19        17       0       N    19    885   2131    435    659   \n",
      "141    10    19        17       0       Y    19    933   2205    580    827   \n",
      "\n",
      "     o_3pm  o_3pa  o_oreb  o_dreb  o_reb  o_asts  o_pf  o_stl  o_to  o_blk   \n",
      "0      202    598     340     737   1077     492   796    285   593    142  \\\n",
      "1      114    374     404     855   1259     547   741    329   590    121   \n",
      "2      131    386     305     630    935     551   713    222   496     90   \n",
      "3      153    428     309     639    948     467   605    217   474    114   \n",
      "4      211    527     302     653    955     496   647    241   408    105   \n",
      "..     ...    ...     ...     ...    ...     ...   ...    ...   ...    ...   \n",
      "137    181    510     266     677    943     517   697    260   435     76   \n",
      "138    187    522     330     770   1100     576   784    306   541    113   \n",
      "139    163    528     335     783   1118     472   763    282   571    133   \n",
      "140    163    460     362     770   1132     483   757    241   637     93   \n",
      "141    139    426     388     803   1191     453   725    314   607    118   \n",
      "\n",
      "     o_pts  d_fgm  d_fga  d_ftm  d_fta  d_3pm  d_3pa  d_oreb  d_dreb  d_reb   \n",
      "0     2534   1014   2254    679    918    172    502     401     864   1265  \\\n",
      "1     2861    996   2363    624    807    181    530     353     821   1174   \n",
      "2     2186    879   1930    533    716    138    423     326     664    990   \n",
      "3     2055    732   1846    431    562    114    369     344     567    911   \n",
      "4     2241    778   1807    444    598    133    372     295     620    915   \n",
      "..     ...    ...    ...    ...    ...    ...    ...     ...     ...    ...   \n",
      "137   2263    833   1872    489    648    150    433     267     757   1024   \n",
      "138   2747    909   2102    635    851    204    553     321     720   1041   \n",
      "139   2585    924   2216    616    801    175    520     383     825   1208   \n",
      "140   2368    929   2096    563    760    180    528     306     787   1093   \n",
      "141   2585    945   2184    570    755    162    478     322     789   1111   \n",
      "\n",
      "     d_asts  d_pf  d_stl  d_to  d_blk  d_pts  won  lost  GP  homeW  homeL   \n",
      "0       684   726    310   561    134   2879    4    30  34      1     16  \\\n",
      "1       615   700    347   601    133   2797   18    16  34     12      5   \n",
      "2       596   596    259   426    123   2429    8    24  32      5     11   \n",
      "3       443   579    257   447    124   2009   18    14  32     11      5   \n",
      "4       489   600    208   424    103   2133   18    14  32     11      5   \n",
      "..      ...   ...    ...   ...    ...    ...  ...   ...  ..    ...    ...   \n",
      "137     545   638    205   504    108   2305   16    18  34     10      7   \n",
      "138     583   687    252   573     89   2657   18    16  34     13      4   \n",
      "139     549   762    256   579    103   2639   16    18  34      8      9   \n",
      "140     542   708    314   530    146   2601   10    24  34      6     11   \n",
      "141     524   778    315   576    156   2622   16    18  34     11      6   \n",
      "\n",
      "     awayW  awayL  confW  confL   min  attend  arena  \n",
      "0        3     14      2     18  6825  141379     11  \n",
      "1        6     11     10     12  6950  120737     11  \n",
      "2        3     13      5     16  6475   90963      4  \n",
      "3        7      9     15      6  6500  105525      4  \n",
      "4        7      9     12      9  6450  106670      4  \n",
      "..     ...    ...    ...    ...   ...     ...    ...  \n",
      "137      6     11      9     11  6900  171501     21  \n",
      "138      5     12     12      8  6850  133255     21  \n",
      "139      8      9      8     12  6900  133255     21  \n",
      "140      4     13      6     14  6825  154637     21  \n",
      "141      5     12     10     12  6875  192747     21  \n",
      "\n",
      "[142 rows x 48 columns]\n"
     ]
    },
    {
     "data": {
      "text/html": [
       "<style>#sk-container-id-5 {color: black;background-color: white;}#sk-container-id-5 pre{padding: 0;}#sk-container-id-5 div.sk-toggleable {background-color: white;}#sk-container-id-5 label.sk-toggleable__label {cursor: pointer;display: block;width: 100%;margin-bottom: 0;padding: 0.3em;box-sizing: border-box;text-align: center;}#sk-container-id-5 label.sk-toggleable__label-arrow:before {content: \"▸\";float: left;margin-right: 0.25em;color: #696969;}#sk-container-id-5 label.sk-toggleable__label-arrow:hover:before {color: black;}#sk-container-id-5 div.sk-estimator:hover label.sk-toggleable__label-arrow:before {color: black;}#sk-container-id-5 div.sk-toggleable__content {max-height: 0;max-width: 0;overflow: hidden;text-align: left;background-color: #f0f8ff;}#sk-container-id-5 div.sk-toggleable__content pre {margin: 0.2em;color: black;border-radius: 0.25em;background-color: #f0f8ff;}#sk-container-id-5 input.sk-toggleable__control:checked~div.sk-toggleable__content {max-height: 200px;max-width: 100%;overflow: auto;}#sk-container-id-5 input.sk-toggleable__control:checked~label.sk-toggleable__label-arrow:before {content: \"▾\";}#sk-container-id-5 div.sk-estimator input.sk-toggleable__control:checked~label.sk-toggleable__label {background-color: #d4ebff;}#sk-container-id-5 div.sk-label input.sk-toggleable__control:checked~label.sk-toggleable__label {background-color: #d4ebff;}#sk-container-id-5 input.sk-hidden--visually {border: 0;clip: rect(1px 1px 1px 1px);clip: rect(1px, 1px, 1px, 1px);height: 1px;margin: -1px;overflow: hidden;padding: 0;position: absolute;width: 1px;}#sk-container-id-5 div.sk-estimator {font-family: monospace;background-color: #f0f8ff;border: 1px dotted black;border-radius: 0.25em;box-sizing: border-box;margin-bottom: 0.5em;}#sk-container-id-5 div.sk-estimator:hover {background-color: #d4ebff;}#sk-container-id-5 div.sk-parallel-item::after {content: \"\";width: 100%;border-bottom: 1px solid gray;flex-grow: 1;}#sk-container-id-5 div.sk-label:hover label.sk-toggleable__label {background-color: #d4ebff;}#sk-container-id-5 div.sk-serial::before {content: \"\";position: absolute;border-left: 1px solid gray;box-sizing: border-box;top: 0;bottom: 0;left: 50%;z-index: 0;}#sk-container-id-5 div.sk-serial {display: flex;flex-direction: column;align-items: center;background-color: white;padding-right: 0.2em;padding-left: 0.2em;position: relative;}#sk-container-id-5 div.sk-item {position: relative;z-index: 1;}#sk-container-id-5 div.sk-parallel {display: flex;align-items: stretch;justify-content: center;background-color: white;position: relative;}#sk-container-id-5 div.sk-item::before, #sk-container-id-5 div.sk-parallel-item::before {content: \"\";position: absolute;border-left: 1px solid gray;box-sizing: border-box;top: 0;bottom: 0;left: 50%;z-index: -1;}#sk-container-id-5 div.sk-parallel-item {display: flex;flex-direction: column;z-index: 1;position: relative;background-color: white;}#sk-container-id-5 div.sk-parallel-item:first-child::after {align-self: flex-end;width: 50%;}#sk-container-id-5 div.sk-parallel-item:last-child::after {align-self: flex-start;width: 50%;}#sk-container-id-5 div.sk-parallel-item:only-child::after {width: 0;}#sk-container-id-5 div.sk-dashed-wrapped {border: 1px dashed gray;margin: 0 0.4em 0.5em 0.4em;box-sizing: border-box;padding-bottom: 0.4em;background-color: white;}#sk-container-id-5 div.sk-label label {font-family: monospace;font-weight: bold;display: inline-block;line-height: 1.2em;}#sk-container-id-5 div.sk-label-container {text-align: center;}#sk-container-id-5 div.sk-container {/* jupyter's `normalize.less` sets `[hidden] { display: none; }` but bootstrap.min.css set `[hidden] { display: none !important; }` so we also need the `!important` here to be able to override the default hidden behavior on the sphinx rendered scikit-learn.org. See: https://github.com/scikit-learn/scikit-learn/issues/21755 */display: inline-block !important;position: relative;}#sk-container-id-5 div.sk-text-repr-fallback {display: none;}</style><div id=\"sk-container-id-5\" class=\"sk-top-container\"><div class=\"sk-text-repr-fallback\"><pre>DecisionTreeClassifier()</pre><b>In a Jupyter environment, please rerun this cell to show the HTML representation or trust the notebook. <br />On GitHub, the HTML representation is unable to render, please try loading this page with nbviewer.org.</b></div><div class=\"sk-container\" hidden><div class=\"sk-item\"><div class=\"sk-estimator sk-toggleable\"><input class=\"sk-toggleable__control sk-hidden--visually\" id=\"sk-estimator-id-5\" type=\"checkbox\" checked><label for=\"sk-estimator-id-5\" class=\"sk-toggleable__label sk-toggleable__label-arrow\">DecisionTreeClassifier</label><div class=\"sk-toggleable__content\"><pre>DecisionTreeClassifier()</pre></div></div></div></div></div>"
      ],
      "text/plain": [
       "DecisionTreeClassifier()"
      ]
     },
     "execution_count": 48,
     "metadata": {},
     "output_type": "execute_result"
    }
   ],
   "source": [
    "from sklearn.model_selection import train_test_split\n",
    "from sklearn.tree import DecisionTreeClassifier\n",
    "from sklearn.preprocessing import LabelEncoder\n",
    "\n",
    "\n",
    "# Initialize LabelEncoder\n",
    "label_encoder = LabelEncoder()\n",
    "\n",
    "# Apply label encoding to the columns 'teamID', 'franchID', 'confID', 'name', 'arena'\n",
    "teams['tmID'] = label_encoder.fit_transform(teams['tmID'])\n",
    "teams['franchID'] = label_encoder.fit_transform(teams['franchID'])\n",
    "teams['confID'] = label_encoder.fit_transform(teams['confID'])\n",
    "teams['name'] = label_encoder.fit_transform(teams['name'])\n",
    "teams['arena'] = label_encoder.fit_transform(teams['arena'])\n",
    "\n",
    "print(teams)\n",
    "\n",
    "# Split the data into features (X) and the target variable (y)\n",
    "X = teams.drop('playoff', axis=1)\n",
    "y = teams['playoff']\n",
    "\n",
    "# Split the data into training and testing sets\n",
    "X_train, X_test, y_train, y_test = train_test_split(X, y, test_size=0.3, random_state=42)\n",
    "\n",
    "# Create and train the Decision Tree model\n",
    "decision_tree = DecisionTreeClassifier()\n",
    "decision_tree.fit(X_train, y_train)\n"
   ]
  },
  {
   "cell_type": "code",
   "execution_count": 49,
   "metadata": {},
   "outputs": [
    {
     "name": "stdout",
     "output_type": "stream",
     "text": [
      "Accuracy =  0.8604651162790697\n",
      "              precision    recall  f1-score   support\n",
      "\n",
      "           N       0.87      0.76      0.81        17\n",
      "           Y       0.86      0.92      0.89        26\n",
      "\n",
      "    accuracy                           0.86        43\n",
      "   macro avg       0.86      0.84      0.85        43\n",
      "weighted avg       0.86      0.86      0.86        43\n",
      "\n",
      "[[13  4]\n",
      " [ 2 24]]\n"
     ]
    }
   ],
   "source": [
    "y_pred = decision_tree.predict(X_test)\n",
    "\n",
    "from sklearn.metrics import accuracy_score, classification_report, confusion_matrix\n",
    "\n",
    "accuracy = accuracy_score(y_test, y_pred)\n",
    "report = classification_report(y_test, y_pred)\n",
    "confusion = confusion_matrix(y_test, y_pred)\n",
    "\n",
    "print('Accuracy = ' , accuracy)\n",
    "print(report)\n",
    "print(confusion)"
   ]
  }
 ],
 "metadata": {
  "kernelspec": {
   "display_name": "Python 3",
   "language": "python",
   "name": "python3"
  },
  "language_info": {
   "codemirror_mode": {
    "name": "ipython",
    "version": 3
   },
   "file_extension": ".py",
   "mimetype": "text/x-python",
   "name": "python",
   "nbconvert_exporter": "python",
   "pygments_lexer": "ipython3",
   "version": "3.9.13"
  }
 },
 "nbformat": 4,
 "nbformat_minor": 2
}
