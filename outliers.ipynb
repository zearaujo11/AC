{
 "cells": [
  {
   "cell_type": "markdown",
   "metadata": {},
   "source": [
    "# Outliers Detection"
   ]
  },
  {
   "cell_type": "markdown",
   "metadata": {},
   "source": [
    "## Section: Import Data\n",
    "This section focuses on libraries and datasets importation.\n",
    "The process involves:\n",
    "- import pandas and numpy libraries\n",
    "- import players, coaches and teams datasets"
   ]
  },
  {
   "cell_type": "code",
   "execution_count": 1,
   "metadata": {},
   "outputs": [],
   "source": [
    "import pandas as pd\n",
    "import numpy as np\n",
    "\n",
    "players = pd.read_csv('basketballPlayoffs/players.csv', delimiter=\",\")\n",
    "coaches = pd.read_csv('basketballPlayoffs/coaches.csv', delimiter=\",\")\n",
    "teams = pd.read_csv('basketballPlayoffs/teams.csv', delimiter=\",\")"
   ]
  },
  {
   "cell_type": "markdown",
   "metadata": {},
   "source": [
    "## Section: Players\n",
    "This section focuses on detect outliers in heights and weights in players dataset using Z-Score.\n",
    "The process involves:\n",
    "- Calculate mean and standard deviation values\n",
    "- Calculate the z-scores for each entry\n",
    "- Define a threshold for identifying outliers\n",
    "- Identify outliers with z-scores exceeding the threshold"
   ]
  },
  {
   "cell_type": "markdown",
   "metadata": {},
   "source": [
    "### Heights"
   ]
  },
  {
   "cell_type": "code",
   "execution_count": 2,
   "metadata": {},
   "outputs": [
    {
     "name": "stdout",
     "output_type": "stream",
     "text": [
      "Outliers: [0.0, 0.0, 0.0, 0.0, 0.0, 0.0, 0.0, 0.0, 0.0, 0.0, 0.0, 0.0, 0.0, 0.0, 0.0, 0.0, 0.0, 0.0, 0.0, 0.0, 0.0, 0.0, 9.0, 0.0, 0.0, 0.0, 0.0, 0.0, 0.0, 0.0, 0.0, 0.0, 0.0, 0.0, 0.0, 0.0, 0.0, 0.0, 0.0, 0.0, 0.0, 0.0, 0.0, 0.0, 0.0, 0.0, 0.0, 0.0, 0.0, 0.0, 0.0, 0.0, 0.0, 0.0, 0.0, 0.0, 0.0, 0.0, 0.0, 0.0, 0.0, 0.0, 0.0, 0.0, 0.0, 0.0, 0.0, 0.0, 0.0, 0.0, 0.0, 0.0, 0.0, 0.0, 0.0, 0.0, 0.0, 0.0, 0.0, 0.0, 0.0]\n"
     ]
    }
   ],
   "source": [
    "# Calculate the mean and standard deviation\n",
    "mean_height = np.mean(players['height'])\n",
    "std_dev = np.std(players['height'])\n",
    "\n",
    "# Calculate the z-scores for each height\n",
    "z_scores = [(x - mean_height) / std_dev for x in players['height']]\n",
    "\n",
    "# Define a threshold for identifying outliers\n",
    "threshold = 2  # You can adjust this value based on your needs\n",
    "\n",
    "# Identify outliers with z-scores exceeding the threshold\n",
    "outliers = [players['height'][i] for i, z in enumerate(z_scores) if abs(z) > threshold]\n",
    "\n",
    "print(\"Outliers:\", outliers)"
   ]
  },
  {
   "cell_type": "markdown",
   "metadata": {},
   "source": [
    "### Weights"
   ]
  },
  {
   "cell_type": "code",
   "execution_count": 3,
   "metadata": {},
   "outputs": [
    {
     "name": "stdout",
     "output_type": "stream",
     "text": [
      "Outliers: [0, 0, 0, 0, 0, 0, 0, 0, 0, 0, 0, 0, 0, 0, 0, 0, 0, 0, 0, 0, 0, 0, 0, 0, 0, 0, 0, 0, 0, 0, 0, 0, 0, 0, 0, 0, 0, 0, 0, 0, 0, 0, 0, 0, 0, 0, 0, 0, 0, 0, 0, 0, 0, 0, 0, 0, 0, 0, 0, 0, 0, 0, 0, 0, 0, 0, 0, 0, 0, 0, 0, 0, 0, 0, 0, 0, 0, 0, 0, 0, 0, 0, 0, 0, 0, 0, 0, 0, 0, 0, 0, 0, 0, 0, 0, 0, 0, 0, 0, 0, 0, 0, 0, 0, 0, 0, 0, 0, 0, 0, 0, 0, 0, 0, 0, 0, 0, 0, 0]\n"
     ]
    }
   ],
   "source": [
    "# Calculate the mean and standard deviation\n",
    "mean_weight = np.mean(players['weight'])\n",
    "std_dev = np.std(players['weight'])\n",
    "\n",
    "# Calculate the z-scores for each weigth\n",
    "z_scores = [(x - mean_weight) / std_dev for x in players['weight']]\n",
    "\n",
    "# Define a threshold for identifying outliers\n",
    "threshold = 2  # You can adjust this value based on your needs\n",
    "\n",
    "# Identify outliers with z-scores exceeding the threshold\n",
    "outliers = [players['weight'][i] for i, z in enumerate(z_scores) if abs(z) > threshold]\n",
    "\n",
    "print(\"Outliers:\", outliers)"
   ]
  },
  {
   "cell_type": "markdown",
   "metadata": {},
   "source": [
    "## Section: Coaches\n",
    "This section focuses on detect outliers for won, lost, post_wins and post_losses values in Coaches dataset using Z-Score. The process involves:\n",
    "- Calculate mean and standard deviation values for each statistic\n",
    "- Calculate the z-scores for each value\n",
    "- Define a threshold for identifying outliers\n",
    "- Identify outliers with z-scores exceeding the threshold"
   ]
  },
  {
   "cell_type": "code",
   "execution_count": 4,
   "metadata": {},
   "outputs": [
    {
     "name": "stdout",
     "output_type": "stream",
     "text": [
      "Coaches Dataset Outliers\n",
      "Outliers Won: [0, 28, 28, 1, 1, 0]\n",
      "Outliers Lost: [2, 29, 26, 27, 2, 30, 26, 3, 3]\n",
      "Outliers Post Wins: [6, 6, 6, 6, 6, 7, 6, 7, 6, 7, 7, 7, 6]\n",
      "Outliers Post Losses: [4, 4, 4, 4, 4, 5, 5]\n"
     ]
    }
   ],
   "source": [
    "# Calculate the mean and standard deviation\n",
    "mean_won = np.mean(coaches['won'])\n",
    "std_dev_won = np.std(coaches['won'])\n",
    "mean_lost = np.mean(coaches['lost'])\n",
    "std_dev_lost = np.std(coaches['lost'])\n",
    "mean_post_wins = np.mean(coaches['post_wins'])\n",
    "std_dev_post_wins = np.std(coaches['post_wins'])\n",
    "mean_post_losses = np.mean(coaches['post_losses'])\n",
    "std_dev_post_losses = np.std(coaches['post_losses'])\n",
    "\n",
    "# Calculate the z-scores for each value\n",
    "z_scores_won = [(x - mean_won) / std_dev_won for x in coaches['won']]\n",
    "z_scores_lost = [(x - mean_lost) / std_dev_lost for x in coaches['lost']]\n",
    "z_scores_post_wins = [(x - mean_post_wins) / std_dev_post_wins for x in coaches['post_wins']]\n",
    "z_scores_post_losses = [(x - mean_post_losses) / std_dev_post_losses for x in coaches['post_losses']]\n",
    "\n",
    "# Define a threshold for identifying outliers\n",
    "threshold = 2  # You can adjust this value based on your needs\n",
    "\n",
    "# Identify outliers with z-scores exceeding the threshold\n",
    "outliers_won = [coaches['won'][i] for i, z in enumerate(z_scores_won) if abs(z) > threshold]\n",
    "outliers_lost = [coaches['lost'][i] for i, z in enumerate(z_scores_lost) if abs(z) > threshold]\n",
    "outliers_post_wins = [coaches['post_wins'][i] for i, z in enumerate(z_scores_post_wins) if abs(z) > threshold]\n",
    "outliers_post_losses = [coaches['post_losses'][i] for i, z in enumerate(z_scores_post_losses) if abs(z) > threshold]\n",
    "\n",
    "print(\"Coaches Dataset Outliers\")\n",
    "print(\"Outliers Won:\", outliers_won)\n",
    "print(\"Outliers Lost:\", outliers_lost)\n",
    "print(\"Outliers Post Wins:\", outliers_post_wins)\n",
    "print(\"Outliers Post Losses:\", outliers_post_losses)"
   ]
  },
  {
   "cell_type": "markdown",
   "metadata": {},
   "source": [
    "## Section: Teams\n",
    "This section focuses on detect outliers for all statistic in Teams dataset using Z-Score. The process involves:\n",
    "- Calculate mean and standard deviation values for each statistic\n",
    "- Calculate the z-scores for each value\n",
    "- Define a threshold for identifying outliers\n",
    "- Identify outliers with z-scores exceeding the threshold"
   ]
  },
  {
   "cell_type": "code",
   "execution_count": 5,
   "metadata": {},
   "outputs": [
    {
     "name": "stdout",
     "output_type": "stream",
     "text": [
      "Teams Dataset Outliers\n",
      "Outliers o_fgm: [1089, 647, 671, 1079, 1063, 1069, 1128, 667]\n",
      "Outliers o_fga: [2428, 2434, 2419, 2485, 2454]\n",
      "Outliers o_ftm: [652, 336, 642, 643, 643, 333, 668]\n",
      "Outliers o_fta: [882, 469, 864, 844, 478, 839, 827]\n",
      "Outliers o_3pm: [62, 62, 259, 254, 265, 283, 257, 256]\n",
      "Outliers o_3pa: [209, 205, 695, 706, 710, 722, 802, 701, 739]\n",
      "Outliers o_oreb: [242, 418, 452, 246]\n",
      "Outliers o_dreb: [926, 931, 906, 537]\n",
      "Outliers o_reb: [1286, 1311, 1282, 793]\n",
      "Outliers o_asts: [630, 640, 683, 390]\n",
      "Outliers o_pf: [796, 532, 530, 509, 467, 490, 794, 784]\n",
      "Outliers o_stl: [336, 354, 373, 193, 187]\n",
      "Outliers o_to: [408, 633, 613, 612, 637]\n",
      "Outliers o_blk: [216, 63, 179, 181, 178]\n",
      "Outliers o_pts: [2861, 1831, 2960, 3025, 3010, 3156, 1822]\n",
      "Outliers d_fgm: [664, 679, 1041, 691, 1036, 1094]\n",
      "Outliers d_fga: [2526, 2460, 2582]\n",
      "Outliers d_ftm: [679, 328, 632, 331, 325, 630, 694, 638, 347, 635]\n",
      "Outliers d_fta: [918, 444, 452, 448, 852, 932, 851, 467, 851]\n"
     ]
    }
   ],
   "source": [
    "# Calculate the mean and standard deviation\n",
    "mean_o_fgm = np.mean(teams['o_fgm'])\n",
    "std_dev_o_fgm = np.std(teams['o_fgm'])\n",
    "mean_o_fga = np.mean(teams['o_fga'])\n",
    "std_dev_o_fga = np.std(teams['o_fga'])\n",
    "mean_o_ftm = np.mean(teams['o_ftm'])\n",
    "std_dev_o_ftm = np.std(teams['o_ftm'])\n",
    "mean_o_fta = np.mean(teams['o_fta'])\n",
    "std_dev_o_fta = np.std(teams['o_fta'])\n",
    "mean_o_3pm = np.mean(teams['o_3pm'])\n",
    "std_dev_o_3pm = np.std(teams['o_3pm'])\n",
    "mean_o_3pa = np.mean(teams['o_3pa'])\n",
    "std_dev_o_3pa = np.std(teams['o_3pa'])\n",
    "mean_o_oreb = np.mean(teams['o_oreb'])\n",
    "std_dev_o_oreb = np.std(teams['o_oreb'])\n",
    "mean_o_dreb = np.mean(teams['o_dreb'])\n",
    "std_dev_o_dreb = np.std(teams['o_dreb'])\n",
    "mean_o_reb = np.mean(teams['o_reb'])\n",
    "std_dev_o_reb = np.std(teams['o_reb'])\n",
    "mean_o_asts = np.mean(teams['o_asts'])\n",
    "std_dev_o_asts = np.std(teams['o_asts'])\n",
    "mean_o_pf = np.mean(teams['o_pf'])\n",
    "std_dev_o_pf = np.std(teams['o_pf'])\n",
    "mean_o_stl = np.mean(teams['o_stl'])\n",
    "std_dev_o_stl = np.std(teams['o_stl'])\n",
    "mean_o_to = np.mean(teams['o_to'])\n",
    "std_dev_o_to = np.std(teams['o_to'])\n",
    "mean_o_blk = np.mean(teams['o_blk'])\n",
    "std_dev_o_blk = np.std(teams['o_blk'])\n",
    "mean_o_pts = np.mean(teams['o_pts'])\n",
    "std_dev_o_pts = np.std(teams['o_pts'])\n",
    "mean_d_fgm = np.mean(teams['d_fgm'])\n",
    "std_dev_d_fgm = np.std(teams['d_fgm'])\n",
    "mean_d_fga = np.mean(teams['d_fga'])\n",
    "std_dev_d_fga = np.std(teams['d_fga'])\n",
    "mean_d_ftm = np.mean(teams['d_ftm'])\n",
    "std_dev_d_ftm = np.std(teams['d_ftm'])\n",
    "mean_d_fta = np.mean(teams['d_fta'])\n",
    "std_dev_d_fta = np.std(teams['d_fta'])\n",
    "\n",
    "# Calculate the z-scores for each value\n",
    "z_scores_o_fgm = [(x - mean_o_fgm) / std_dev_o_fgm for x in teams['o_fgm']]\n",
    "z_scores_o_fga = [(x - mean_o_fga) / std_dev_o_fga for x in teams['o_fga']]\n",
    "z_scores_o_ftm = [(x - mean_o_ftm) / std_dev_o_ftm for x in teams['o_ftm']]\n",
    "z_scores_o_fta = [(x - mean_o_fta) / std_dev_o_fta for x in teams['o_fta']]\n",
    "z_scores_o_3pm = [(x - mean_o_3pm) / std_dev_o_3pm for x in teams['o_3pm']]\n",
    "z_scores_o_3pa = [(x - mean_o_3pa) / std_dev_o_3pa for x in teams['o_3pa']]\n",
    "z_scores_o_oreb = [(x - mean_o_oreb) / std_dev_o_oreb for x in teams['o_oreb']]\n",
    "z_scores_o_dreb = [(x - mean_o_dreb) / std_dev_o_dreb for x in teams['o_dreb']]\n",
    "z_scores_o_reb = [(x - mean_o_reb) / std_dev_o_reb for x in teams['o_reb']]\n",
    "z_scores_o_asts = [(x - mean_o_asts) / std_dev_o_asts for x in teams['o_asts']]\n",
    "z_scores_o_pf = [(x - mean_o_pf) / std_dev_o_pf for x in teams['o_pf']]\n",
    "z_scores_o_stl = [(x - mean_o_stl) / std_dev_o_stl for x in teams['o_stl']]\n",
    "z_scores_o_to = [(x - mean_o_to) / std_dev_o_to for x in teams['o_to']]\n",
    "z_scores_o_blk = [(x - mean_o_blk) / std_dev_o_blk for x in teams['o_blk']]\n",
    "z_scores_o_pts = [(x - mean_o_pts) / std_dev_o_pts for x in teams['o_pts']]\n",
    "z_scores_d_fgm = [(x - mean_d_fgm) / std_dev_d_fgm for x in teams['d_fgm']]\n",
    "z_scores_d_fga = [(x - mean_d_fga) / std_dev_d_fga for x in teams['d_fga']]\n",
    "z_scores_d_ftm = [(x - mean_d_ftm) / std_dev_d_ftm for x in teams['d_ftm']]\n",
    "z_scores_d_fta = [(x - mean_d_fta) / std_dev_d_fta for x in teams['d_fta']]\n",
    "\n",
    "# Define a threshold for identifying outliers\n",
    "threshold = 2  # You can adjust this value based on your needs\n",
    "\n",
    "# Identify outliers with z-scores exceeding the threshold\n",
    "outliers_o_fgm = [teams['o_fgm'][i] for i, z in enumerate(z_scores_o_fgm) if abs(z) > threshold]\n",
    "outliers_o_fga = [teams['o_fga'][i] for i, z in enumerate(z_scores_o_fga) if abs(z) > threshold]\n",
    "outliers_o_ftm = [teams['o_ftm'][i] for i, z in enumerate(z_scores_o_ftm) if abs(z) > threshold]\n",
    "outliers_o_fta = [teams['o_fta'][i] for i, z in enumerate(z_scores_o_fta) if abs(z) > threshold]\n",
    "outliers_o_3pm = [teams['o_3pm'][i] for i, z in enumerate(z_scores_o_3pm) if abs(z) > threshold]\n",
    "outliers_o_3pa = [teams['o_3pa'][i] for i, z in enumerate(z_scores_o_3pa) if abs(z) > threshold]\n",
    "outliers_o_oreb = [teams['o_oreb'][i] for i, z in enumerate(z_scores_o_oreb) if abs(z) > threshold]\n",
    "outliers_o_dreb = [teams['o_dreb'][i] for i, z in enumerate(z_scores_o_dreb) if abs(z) > threshold]\n",
    "outliers_o_reb = [teams['o_reb'][i] for i, z in enumerate(z_scores_o_reb) if abs(z) > threshold]\n",
    "outliers_o_asts = [teams['o_asts'][i] for i, z in enumerate(z_scores_o_asts) if abs(z) > threshold]\n",
    "outliers_o_pf = [teams['o_pf'][i] for i, z in enumerate(z_scores_o_pf) if abs(z) > threshold]\n",
    "outliers_o_stl = [teams['o_stl'][i] for i, z in enumerate(z_scores_o_stl) if abs(z) > threshold]\n",
    "outliers_o_to = [teams['o_to'][i] for i, z in enumerate(z_scores_o_to) if abs(z) > threshold]\n",
    "outliers_o_blk = [teams['o_blk'][i] for i, z in enumerate(z_scores_o_blk) if abs(z) > threshold]\n",
    "outliers_o_pts = [teams['o_pts'][i] for i, z in enumerate(z_scores_o_pts) if abs(z) > threshold]\n",
    "outliers_d_fgm = [teams['d_fgm'][i] for i, z in enumerate(z_scores_d_fgm) if abs(z) > threshold]\n",
    "outliers_d_fga = [teams['d_fga'][i] for i, z in enumerate(z_scores_d_fga) if abs(z) > threshold]\n",
    "outliers_d_ftm = [teams['d_ftm'][i] for i, z in enumerate(z_scores_d_ftm) if abs(z) > threshold]\n",
    "outliers_d_fta = [teams['d_fta'][i] for i, z in enumerate(z_scores_d_fta) if abs(z) > threshold]\n",
    "\n",
    "print(\"Teams Dataset Outliers\")\n",
    "print(\"Outliers o_fgm:\", outliers_o_fgm)\n",
    "print(\"Outliers o_fga:\", outliers_o_fga)\n",
    "print(\"Outliers o_ftm:\", outliers_o_ftm)\n",
    "print(\"Outliers o_fta:\", outliers_o_fta)\n",
    "print(\"Outliers o_3pm:\", outliers_o_3pm)\n",
    "print(\"Outliers o_3pa:\", outliers_o_3pa)\n",
    "print(\"Outliers o_oreb:\", outliers_o_oreb)\n",
    "print(\"Outliers o_dreb:\", outliers_o_dreb)\n",
    "print(\"Outliers o_reb:\", outliers_o_reb)\n",
    "print(\"Outliers o_asts:\", outliers_o_asts)\n",
    "print(\"Outliers o_pf:\", outliers_o_pf)\n",
    "print(\"Outliers o_stl:\", outliers_o_stl)\n",
    "print(\"Outliers o_to:\", outliers_o_to)\n",
    "print(\"Outliers o_blk:\", outliers_o_blk)\n",
    "print(\"Outliers o_pts:\", outliers_o_pts)\n",
    "print(\"Outliers d_fgm:\", outliers_d_fgm)\n",
    "print(\"Outliers d_fga:\", outliers_d_fga)\n",
    "print(\"Outliers d_ftm:\", outliers_d_ftm)\n",
    "print(\"Outliers d_fta:\", outliers_d_fta)\n"
   ]
  }
 ],
 "metadata": {
  "kernelspec": {
   "display_name": "Python 3",
   "language": "python",
   "name": "python3"
  },
  "language_info": {
   "codemirror_mode": {
    "name": "ipython",
    "version": 3
   },
   "file_extension": ".py",
   "mimetype": "text/x-python",
   "name": "python",
   "nbconvert_exporter": "python",
   "pygments_lexer": "ipython3",
   "version": "3.10.12"
  }
 },
 "nbformat": 4,
 "nbformat_minor": 2
}
