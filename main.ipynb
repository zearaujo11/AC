{
 "cells": [
  {
   "cell_type": "markdown",
   "metadata": {},
   "source": []
  },
  {
   "cell_type": "code",
   "execution_count": null,
   "metadata": {},
   "outputs": [],
   "source": [
    "import pandas as pd\n",
    "\n",
    "players = pd.read_csv('basketballPlayoffs/players.csv', delimiter=\",\")\n",
    "coaches = pd.read_csv('basketballPlayoffs/coaches.csv', delimiter=\",\")\n",
    "teams = pd.read_csv('basketballPlayoffs/teams.csv', delimiter=\",\")\n",
    "players_teams = pd.read_csv('basketballPlayoffs/players_teams.csv', delimiter=\",\")\n",
    "teams_post = pd.read_csv('basketballPlayoffs/teams_post.csv', delimiter=\",\")\n",
    "series_post = pd.read_csv('basketballPlayoffs/series_post.csv', delimiter=\",\")\n",
    "awards_players = pd.read_csv('basketballPlayoffs/awards_players.csv', delimiter=\",\")\n",
    "\n",
    "print(players.head())\n",
    "print(coaches)\n",
    "print(teams)\n",
    "print(players_teams)\n",
    "print(teams_post)\n",
    "print(series_post)\n",
    "print(awards_players)\n",
    "\n",
    "\n",
    "players.isnull().sum()\n",
    "#players.describe()"
   ]
  },
  {
   "cell_type": "code",
   "execution_count": null,
   "metadata": {},
   "outputs": [],
   "source": [
    "# to delete:  deathDate, collegeOther, , firstseason, lastseason linhas com pos=\"\"\n",
    "# show all players that have Pos: nullpd.set_option('display.max_rows', None)\n",
    "print(players.isna().sum())\n",
    "players = players.drop(columns=['collegeOther', 'deathDate', 'firstseason', 'lastseason'])\n",
    "players = players[players['pos'] != \"\"]\n",
    "print(players.head())"
   ]
  },
  {
   "cell_type": "code",
   "execution_count": null,
   "metadata": {},
   "outputs": [],
   "source": [
    "# to delete: lgID \n",
    "print(coaches.isna().sum())\n",
    "coaches = coaches.drop(columns=['lgID'])\n",
    "print(coaches.head())"
   ]
  },
  {
   "cell_type": "code",
   "execution_count": null,
   "metadata": {},
   "outputs": [],
   "source": [
    "# to delete: lgID, divID, seeded, tmORB, tmDRB, tmTRB, opptmORB, opptmDRB, opptmTRB\n",
    "print(teams.isna().sum())   \n",
    "teams = teams.drop(columns=['lgID', 'divID', 'seeded', 'tmORB', 'tmDRB', 'tmTRB', 'opptmORB', 'opptmDRB', 'opptmTRB'])\n",
    "print(teams.head())"
   ]
  },
  {
   "cell_type": "code",
   "execution_count": null,
   "metadata": {},
   "outputs": [],
   "source": [
    "# to delete: lgID \n",
    "#print(players_teams.isna().sum())\n",
    "players_teams = players_teams.drop(columns=['lgID'])\n",
    "print(players_teams.head())"
   ]
  },
  {
   "cell_type": "code",
   "execution_count": null,
   "metadata": {},
   "outputs": [],
   "source": [
    "# to delete: lgID\n",
    "#print(teams_post.isna().sum())\n",
    "teams_post = teams_post.drop(columns=['lgID'])\n",
    "print(teams_post.head())"
   ]
  },
  {
   "cell_type": "code",
   "execution_count": null,
   "metadata": {},
   "outputs": [],
   "source": [
    "# to delete: lgIDWinner, lgIDLoser\n",
    "#print(series_post.isna().sum())\n",
    "series_post = series_post.drop(columns=['lgIDWinner', 'lgIDLoser'])\n",
    "print(series_post.head())"
   ]
  },
  {
   "cell_type": "code",
   "execution_count": null,
   "metadata": {},
   "outputs": [],
   "source": [
    "# to delete: lgID\n",
    "#print(awards_players.isna().sum()) \n",
    "awards_players = awards_players.drop(columns=['lgID'])\n",
    "print(awards_players.head())"
   ]
  }
 ],
 "metadata": {
  "kernelspec": {
   "display_name": "base",
   "language": "python",
   "name": "python3"
  },
  "language_info": {
   "codemirror_mode": {
    "name": "ipython",
    "version": 3
   },
   "file_extension": ".py",
   "mimetype": "text/x-python",
   "name": "python",
   "nbconvert_exporter": "python",
   "pygments_lexer": "ipython3",
   "version": "3.8.8"
  },
  "orig_nbformat": 4
 },
 "nbformat": 4,
 "nbformat_minor": 2
}
