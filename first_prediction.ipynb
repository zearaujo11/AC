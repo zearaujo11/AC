{
 "cells": [
  {
   "cell_type": "markdown",
   "metadata": {},
   "source": [
    "# First Prediction on Teams Dataset"
   ]
  },
  {
   "cell_type": "markdown",
   "metadata": {},
   "source": [
    "## Section: Import Data\n",
    "This section focuses on libraries and datasets importation.\n",
    "The process involves:\n",
    "- import pandas library\n",
    "- import teams dataset"
   ]
  },
  {
   "cell_type": "code",
   "execution_count": null,
   "metadata": {},
   "outputs": [],
   "source": [
    "import pandas as pd\n",
    "\n",
    "pd.set_option('display.max_columns', None)\n",
    "\n",
    "teams_raw = pd.read_csv('basketballPlayoffs/teams.csv', delimiter=\",\")"
   ]
  },
  {
   "cell_type": "markdown",
   "metadata": {},
   "source": [
    "## Section: Data Cleaning\n",
    "In this section the data is cleaned. The process involves:\n",
    "- Drop all columns with redundant and null values\n",
    "- Drop all columns related to post season"
   ]
  },
  {
   "cell_type": "code",
   "execution_count": null,
   "metadata": {},
   "outputs": [],
   "source": [
    "# drop data with redundant and null values\n",
    "teams = teams_raw.drop(columns=['lgID', 'divID', 'seeded', 'tmORB', 'tmDRB', 'tmTRB', 'opptmORB', 'opptmDRB', 'opptmTRB'])\n",
    "# drop data related to post season\n",
    "teams = teams.drop(columns=['rank', 'firstRound', 'semis', 'finals'])\n",
    "\n",
    "teams.head()\n",
    "#teams.to_csv('teams_final.csv', index=False)"
   ]
  },
  {
   "cell_type": "markdown",
   "metadata": {},
   "source": [
    "## Section: Enconding\n",
    "This section focuses on the enconding of the dataset using Label Enconding. The process involves:\n",
    "- Import LabelEnconder from sklearn.preprocessing library\n",
    "- Apply the label encoding to non numeric values: teamID, franchID, confID, name, arena"
   ]
  },
  {
   "cell_type": "code",
   "execution_count": null,
   "metadata": {},
   "outputs": [],
   "source": [
    "from sklearn.preprocessing import LabelEncoder\n",
    "\n",
    "# Initialize LabelEncoder\n",
    "label_encoder = LabelEncoder()\n",
    "\n",
    "# Apply label encoding to the columns 'teamID', 'franchID', 'confID', 'name', 'arena'\n",
    "teams['tmID'] = label_encoder.fit_transform(teams['tmID'])\n",
    "teams['franchID'] = label_encoder.fit_transform(teams['franchID'])\n",
    "teams['confID'] = label_encoder.fit_transform(teams['confID'])\n",
    "teams['name'] = label_encoder.fit_transform(teams['name'])\n",
    "teams['arena'] = label_encoder.fit_transform(teams['arena'])\n",
    "\n",
    "print(teams)"
   ]
  },
  {
   "cell_type": "markdown",
   "metadata": {},
   "source": [
    "## Section: Decision Tree\n",
    "This section focuses on applying Decision Tree model. The process involves:\n",
    "- Import train_test_split and DecisionTreeClassifier\n",
    "- Split the data into features and the target variable\n",
    "- Split the data into training and testing sets\n",
    "- Create and train the Decision Tree model\n",
    "- Prediction\n",
    "- Show the results"
   ]
  },
  {
   "cell_type": "code",
   "execution_count": null,
   "metadata": {},
   "outputs": [],
   "source": [
    "from sklearn.model_selection import train_test_split\n",
    "from sklearn.tree import DecisionTreeClassifier\n",
    "from sklearn.metrics import accuracy_score, classification_report, confusion_matrix\n",
    "\n",
    "# Split the data into features (X) and the target variable (y)\n",
    "X = teams.drop('playoff', axis=1)\n",
    "y = teams['playoff']\n",
    "\n",
    "# Split the data into training and testing sets\n",
    "X_train, X_test, y_train, y_test = train_test_split(X, y, test_size=0.3, random_state=42)\n",
    "\n",
    "# Create and train the Decision Tree model\n",
    "decision_tree = DecisionTreeClassifier()\n",
    "decision_tree.fit(X_train, y_train)\n"
   ]
  },
  {
   "cell_type": "code",
   "execution_count": null,
   "metadata": {},
   "outputs": [],
   "source": [
    "y_pred = decision_tree.predict(X_test)\n",
    "\n",
    "accuracy = accuracy_score(y_test, y_pred)\n",
    "report = classification_report(y_test, y_pred)\n",
    "confusion = confusion_matrix(y_test, y_pred)\n",
    "\n",
    "print('Accuracy = ' , accuracy)\n",
    "print(report)\n",
    "print(confusion)"
   ]
  },
  {
   "cell_type": "markdown",
   "metadata": {},
   "source": [
    "## Applying KNN\n",
    "This section focuses on applying K-Nearest Neighbors model. The process involves:\n",
    "- Import train_test_split and KNeighborsClassifier\n",
    "- Split the data into features and the target variable\n",
    "- Split the data into training and testing sets\n",
    "- Set neighbors number to 19\n",
    "- Create and train the model\n",
    "- Prediction\n",
    "- Show the results"
   ]
  },
  {
   "cell_type": "code",
   "execution_count": null,
   "metadata": {},
   "outputs": [],
   "source": [
    "from sklearn.neighbors import KNeighborsClassifier \n",
    "from sklearn.model_selection import train_test_split \n",
    "\n",
    "# Split the data into features (X) and the target variable (y)\n",
    "X = teams.drop('playoff', axis=1)\n",
    "y = teams['playoff']\n",
    "\n",
    "# Split the data into training and testing sets\n",
    "X_train, X_test, y_train, y_test = train_test_split(X, y, test_size=0.2, random_state=42)\n",
    "\n",
    "knn = KNeighborsClassifier(n_neighbors=19)\n",
    "\n",
    "knn.fit(X_train, y_train)\n",
    "\n",
    "print(knn.predict(X_test))\n",
    "print('Accuracy: ', knn.score(X_test, y_test))"
   ]
  }
 ],
 "metadata": {
  "kernelspec": {
   "display_name": "Python 3",
   "language": "python",
   "name": "python3"
  },
  "language_info": {
   "codemirror_mode": {
    "name": "ipython",
    "version": 3
   },
   "file_extension": ".py",
   "mimetype": "text/x-python",
   "name": "python",
   "nbconvert_exporter": "python",
   "pygments_lexer": "ipython3",
   "version": "3.9.13"
  }
 },
 "nbformat": 4,
 "nbformat_minor": 2
}
