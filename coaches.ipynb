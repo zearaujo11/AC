{
 "cells": [
  {
   "cell_type": "code",
   "execution_count": 37,
   "metadata": {},
   "outputs": [
    {
     "name": "stdout",
     "output_type": "stream",
     "text": [
      "57\n",
      "      coachID  year tmID  lgID  stint  won  lost  post_wins  post_losses\n",
      "0  adamsmi01w     5  WAS  WNBA      0   17    17          1            2\n",
      "1  adubari99w     1  NYL  WNBA      0   20    12          4            3\n",
      "2  adubari99w     2  NYL  WNBA      0   21    11          3            3\n",
      "3  adubari99w     3  NYL  WNBA      0   18    14          4            4\n",
      "4  adubari99w     4  NYL  WNBA      0   16    18          0            0\n"
     ]
    },
    {
     "data": {
      "text/plain": [
       "coachID        0\n",
       "year           0\n",
       "tmID           0\n",
       "lgID           0\n",
       "stint          0\n",
       "won            0\n",
       "lost           0\n",
       "post_wins      0\n",
       "post_losses    0\n",
       "dtype: int64"
      ]
     },
     "execution_count": 37,
     "metadata": {},
     "output_type": "execute_result"
    }
   ],
   "source": [
    "import pandas as pd\n",
    "import seaborn as sns\n",
    "import matplotlib.pyplot as plt\n",
    "\n",
    "coaches = pd.read_csv('basketballPlayoffs/coaches.csv', delimiter=\",\")\n",
    "awards_coaches = pd.read_csv('basketballPlayoffs/awards_coaches.csv', delimiter=\",\")\n",
    "teams_for_coaches = pd.read_csv('basketballPlayoffs/teams.csv', delimiter=\",\")\n",
    "\n",
    "\n",
    "print(coaches['coachID'].nunique()) \n",
    "\n",
    "print(coaches.head())\n",
    "\n",
    "coaches.isnull().sum()\n"
   ]
  },
  {
   "cell_type": "code",
   "execution_count": 38,
   "metadata": {},
   "outputs": [
    {
     "data": {
      "image/png": "[encoded data removed]",
      "text/plain": [
       "<Figure size 432x288 with 1 Axes>"
      ]
     },
     "metadata": {
      "needs_background": "light"
     },
     "output_type": "display_data"
    }
   ],
   "source": [
    "# Extract the wins and losses data from the \"won\" and \"lost\" columns\n",
    "coach_wins = coaches['won']\n",
    "coach_losses = coaches['lost']\n",
    "\n",
    "# Create a scatter plot\n",
    "import matplotlib.pyplot as plt\n",
    "\n",
    "plt.scatter(coach_wins, coach_losses, alpha=0.5)\n",
    "plt.xlabel('Wins')\n",
    "plt.ylabel('Losses')\n",
    "plt.title('Scatter Plot of Coach Wins vs. Losses')\n",
    "plt.show()\n"
   ]
  },
  {
   "cell_type": "code",
   "execution_count": 39,
   "metadata": {},
   "outputs": [
    {
     "name": "stdout",
     "output_type": "stream",
     "text": [
      "Number of different values in the coachID column are: 57\n",
      "------------\n",
      "Number of different values in the year column are: 10\n",
      "------------\n",
      "Number of different values in the tmID column are: 20\n",
      "------------\n",
      "Number of different values in the lgID column are: 1\n",
      "------------\n",
      "Number of different values in the stint column are: 3\n",
      "------------\n",
      "Number of different values in the won column are: 29\n",
      "------------\n",
      "Number of different values in the lost column are: 28\n",
      "------------\n",
      "Number of different values in the post_wins column are: 8\n",
      "------------\n",
      "Number of different values in the post_losses column are: 6\n",
      "------------\n"
     ]
    }
   ],
   "source": [
    "for column in coaches.columns:\n",
    "    unique_values = coaches[column].unique()\n",
    "    print(f\"Number of different values in the {column} column are:\", len(unique_values))\n",
    "    print(\"------------\")"
   ]
  },
  {
   "cell_type": "markdown",
   "metadata": {},
   "source": [
    "LeagueID there is just one value so we can erase that column. "
   ]
  },
  {
   "cell_type": "code",
   "execution_count": 40,
   "metadata": {},
   "outputs": [],
   "source": [
    "coaches = coaches.drop('lgID', axis=1)"
   ]
  },
  {
   "cell_type": "code",
   "execution_count": 41,
   "metadata": {},
   "outputs": [
    {
     "data": {
      "image/png": "[encoded data removed]",
      "text/plain": [
       "<Figure size 720x720 with 1 Axes>"
      ]
     },
     "metadata": {
      "needs_background": "light"
     },
     "output_type": "display_data"
    }
   ],
   "source": [
    "columns = []\n",
    "value_counts = []\n",
    "\n",
    "for column in coaches.columns:\n",
    "    unique_values = coaches[column].nunique()\n",
    "    columns.append(column)\n",
    "    value_counts.append(unique_values)\n",
    "\n",
    "plt.figure(figsize=(10, 10))\n",
    "plt.barh(columns, value_counts, color='skyblue')\n",
    "plt.xlabel('Number of Unique Values')\n",
    "plt.ylabel('Columns')\n",
    "plt.title('Number of Unique Values in Each Column')\n",
    "plt.show()"
   ]
  },
  {
   "cell_type": "markdown",
   "metadata": {},
   "source": [
    "Feature analysis and types and also check for null values existance, not much as can be seen."
   ]
  },
  {
   "cell_type": "code",
   "execution_count": 42,
   "metadata": {},
   "outputs": [
    {
     "name": "stdout",
     "output_type": "stream",
     "text": [
      "<class 'pandas.core.frame.DataFrame'>\n",
      "RangeIndex: 162 entries, 0 to 161\n",
      "Data columns (total 8 columns):\n",
      " #   Column       Non-Null Count  Dtype \n",
      "---  ------       --------------  ----- \n",
      " 0   coachID      162 non-null    object\n",
      " 1   year         162 non-null    int64 \n",
      " 2   tmID         162 non-null    object\n",
      " 3   stint        162 non-null    int64 \n",
      " 4   won          162 non-null    int64 \n",
      " 5   lost         162 non-null    int64 \n",
      " 6   post_wins    162 non-null    int64 \n",
      " 7   post_losses  162 non-null    int64 \n",
      "dtypes: int64(6), object(2)\n",
      "memory usage: 10.2+ KB\n"
     ]
    }
   ],
   "source": [
    "coaches.info()"
   ]
  },
  {
   "cell_type": "markdown",
   "metadata": {},
   "source": [
    "### Merge coaches table with awards table"
   ]
  },
  {
   "cell_type": "code",
   "execution_count": 43,
   "metadata": {},
   "outputs": [
    {
     "name": "stdout",
     "output_type": "stream",
     "text": [
      "        coachID  year tmID  stint  won  lost  post_wins  post_losses  \\\n",
      "0    adamsmi01w     5  WAS      0   17    17          1            2   \n",
      "1    adubari99w     1  NYL      0   20    12          4            3   \n",
      "2    adubari99w     2  NYL      0   21    11          3            3   \n",
      "3    adubari99w     3  NYL      0   18    14          4            4   \n",
      "4    adubari99w     4  NYL      0   16    18          0            0   \n",
      "..          ...   ...  ...    ...  ...   ...        ...          ...   \n",
      "157  wintebr01w     6  IND      0   21    13          2            2   \n",
      "158  wintebr01w     7  IND      0   21    13          0            2   \n",
      "159  wintebr01w     8  IND      0   21    13          3            3   \n",
      "160  zierddo99w     8  MIN      0   10    24          0            0   \n",
      "161  zierddo99w     9  MIN      0   16    18          0            0   \n",
      "\n",
      "     coachOfYear  \n",
      "0              0  \n",
      "1              0  \n",
      "2              0  \n",
      "3              0  \n",
      "4              0  \n",
      "..           ...  \n",
      "157            0  \n",
      "158            0  \n",
      "159            0  \n",
      "160            0  \n",
      "161            0  \n",
      "\n",
      "[162 rows x 9 columns]\n"
     ]
    }
   ],
   "source": [
    "awards_coaches = awards_coaches.drop(['lgID'], axis=1)\n",
    "\n",
    "# Merge the tables\n",
    "coaches = pd.merge(coaches, awards_coaches, on=['coachID', 'year'], how='left')\n",
    "\n",
    "# Fill NaN values with 0 in the countAward column\n",
    "coaches['coachOfYear'] = coaches['award'].notna().astype(int)\n",
    "coaches = coaches.drop('award', axis=1)\n",
    "\n",
    "# Example usage\n",
    "print(coaches)\n",
    "# merged_table.to_csv('merged_table.csv', index=False)"
   ]
  },
  {
   "cell_type": "markdown",
   "metadata": {},
   "source": [
    "### Shifting post season information"
   ]
  },
  {
   "cell_type": "code",
   "execution_count": 44,
   "metadata": {},
   "outputs": [],
   "source": [
    "def shift_post_results(dataset):\n",
    "    # Sort the dataset based on 'tmID' and 'year'\n",
    "    dataset.sort_values(by=['tmID', 'year'], inplace=True)\n",
    "\n",
    "    # Shift the 'post_wins' and 'post_losses' columns for each team ('tmID') down by one row\n",
    "    dataset['post_wins_shifted'] = dataset.groupby('tmID')['post_wins'].shift(-1)\n",
    "    dataset['post_losses_shifted'] = dataset.groupby('tmID')['post_losses'].shift(-1)\n",
    "\n",
    "    # Drop the original 'post_wins' and 'post_losses' columns\n",
    "    dataset.drop(columns=['post_wins', 'post_losses'], inplace=True)\n",
    "\n",
    "    # Remove rows with NaN values introduced by shifting\n",
    "    dataset.dropna(subset=['post_wins_shifted', 'post_losses_shifted'], inplace=True)\n",
    "\n",
    "    # Rename the shifted columns to match the original names\n",
    "    dataset.rename(columns={'post_wins_shifted': 'post_wins', 'post_losses_shifted': 'post_losses'}, inplace=True)\n",
    "\n",
    "    # Reset the index of the DataFrame\n",
    "    dataset.reset_index(drop=True, inplace=True)\n",
    "\n",
    "    return dataset\n"
   ]
  },
  {
   "cell_type": "markdown",
   "metadata": {},
   "source": [
    "### PowerRanking with only data from coaches dataset"
   ]
  },
  {
   "cell_type": "code",
   "execution_count": 45,
   "metadata": {},
   "outputs": [],
   "source": [
    "# highest and lowest value per feature to calculate rating (0-100)\n",
    "wonMax = 0\n",
    "wonMin = 999\n",
    "\n",
    "lostMax = 0\n",
    "lostMin = 999\n",
    "\n",
    "postWinsMax = 0\n",
    "postWinsMin = 999\n",
    "\n",
    "postLossesMax = 0\n",
    "postLossesMin = 999\n",
    "\n",
    "\n",
    "# Weights for each feature\n",
    "won_weight = 1.5\n",
    "lost_weight = 1.0\n",
    "post_wins_weight = 1.2\n",
    "post_losses_weight = 1.0\n",
    "award_weight = 50\n",
    "\n",
    "for index, row in coaches.iterrows():\n",
    "    if (row['won']) > wonMax:\n",
    "        wonMax = row['won']\n",
    "    if (row['won']) < wonMin:\n",
    "        wonMin = row['won']\n",
    "\n",
    "    if (row['lost']) > lostMax:\n",
    "        lostMax = row['lost']\n",
    "    if (row['lost']) < lostMin:\n",
    "        lostMin = row['lost']\n",
    "\n",
    "    if (row['post_wins']) > postWinsMax:\n",
    "        postWinsMax = row['post_wins']\n",
    "    if (row['post_wins']) < postWinsMin:\n",
    "        postWinsMin = row['post_wins']\n",
    "\n",
    "    if (row['post_losses']) > postLossesMax:\n",
    "        postLossesMax = row['post_losses']\n",
    "    if (row['post_losses']) < postLossesMin:\n",
    "        postLossesMin = row['post_losses']\n",
    "\n",
    "def coach_power_ranking(coach):\n",
    "    wonRating = ((coach['won'] - wonMin) / (wonMax - wonMin)) * 100\n",
    "    lostRating = ((coach['lost'] - lostMin) / (lostMax - lostMin)) * 100\n",
    "    postWinsRating = ((coach['post_wins'] - postWinsMin) / (postWinsMax - postWinsMin)) * 100\n",
    "    postLossesRating = ((coach['post_losses'] - postLossesMin) / (postLossesMax - postLossesMin)) * 100\n",
    "\n",
    "     # Apply weights to each feature\n",
    "    wonRating *= won_weight\n",
    "    lostRating *= lost_weight\n",
    "    postWinsRating *= post_wins_weight\n",
    "    postLossesRating *= post_losses_weight\n",
    "    award_feature = coach['coachOfYear'] * award_weight\n",
    "\n",
    "    relevantFeatures = [wonRating, lostRating, postWinsRating, postLossesRating]\n",
    "\n",
    "    powerRankingAcummulator = wonRating - lostRating + postWinsRating - postLossesRating + award_feature\n",
    "\n",
    "\n",
    "    return powerRankingAcummulator"
   ]
  },
  {
   "cell_type": "code",
   "execution_count": 46,
   "metadata": {},
   "outputs": [
    {
     "name": "stdout",
     "output_type": "stream",
     "text": [
      "      coachID  year tmID  stint  won  lost  post_wins  post_losses  \\\n",
      "0  adamsmi01w     5  WAS      0   17    17          1            2   \n",
      "1  adubari99w     1  NYL      0   20    12          4            3   \n",
      "2  adubari99w     2  NYL      0   21    11          3            3   \n",
      "3  adubari99w     3  NYL      0   18    14          4            4   \n",
      "4  adubari99w     4  NYL      0   16    18          0            0   \n",
      "\n",
      "   coachOfYear  coachesPowerRanking  \n",
      "0            0            14.642857  \n",
      "1            0            80.000000  \n",
      "2            0            71.785714  \n",
      "3            0            42.142857  \n",
      "4            0            28.571429  \n"
     ]
    }
   ],
   "source": [
    "# Example usage\n",
    "coaches['coachesPowerRanking'] = coaches.apply(coach_power_ranking, axis=1)\n",
    "\n",
    "print(coaches.head())\n",
    "\n"
   ]
  },
  {
   "cell_type": "code",
   "execution_count": 47,
   "metadata": {},
   "outputs": [
    {
     "name": "stdout",
     "output_type": "stream",
     "text": [
      "    tmID  year  coachesPowerRanking\n",
      "0    ATL     9           -78.571429\n",
      "1    ATL    10            56.428571\n",
      "2    CHA     1           -35.714286\n",
      "3    CHA     2            42.142857\n",
      "4    CHA     3            13.571429\n",
      "..   ...   ...                  ...\n",
      "137  WAS     6            28.571429\n",
      "138  WAS     7             6.428571\n",
      "139  WAS     8            36.974790\n",
      "140  WAS     9            -6.302521\n",
      "141  WAS    10           -11.428571\n",
      "\n",
      "[142 rows x 3 columns]\n"
     ]
    }
   ],
   "source": [
    "# Create a new column for total games coached by each coach\n",
    "coaches['total_games'] = coaches['won'] + coaches['lost'] + coaches['post_wins'] + coaches['post_losses']\n",
    "coaches.to_csv('coach_contribution_powerRank.csv', index=False)\n",
    "\n",
    "# Group by tmID and year, then calculate the total team games\n",
    "team_year_group = coaches.groupby(['tmID', 'year'])\n",
    "coaches['total_team_games'] = team_year_group['total_games'].transform('sum')\n",
    "\n",
    "# Function to calculate the contribution of each coach to the total power ranking\n",
    "def calculate_contribution(row):\n",
    "    if row['stint'] == 0:\n",
    "        return row['coachesPowerRanking']\n",
    "    else:\n",
    "        return (row['total_games'] / row['total_team_games']) * row['coachesPowerRanking']\n",
    "\n",
    "# Apply the contribution calculation function to each row\n",
    "coaches['contribution'] = coaches.apply(calculate_contribution, axis=1)\n",
    "\n",
    "# Group by tmID and year again to get the sum of contributions for each team in each year\n",
    "result = coaches.groupby(['tmID', 'year']).agg({'contribution': 'sum'}).reset_index()\n",
    "result.rename(columns={'contribution': 'coachesPowerRanking'}, inplace=True)\n",
    "\n",
    "\n",
    "result.to_csv('coaches_final.csv', index=False)\n",
    "# Display the result\n",
    "print(result)\n"
   ]
  }
 ],
 "metadata": {
  "kernelspec": {
   "display_name": "base",
   "language": "python",
   "name": "python3"
  },
  "language_info": {
   "codemirror_mode": {
    "name": "ipython",
    "version": 3
   },
   "file_extension": ".py",
   "mimetype": "text/x-python",
   "name": "python",
   "nbconvert_exporter": "python",
   "pygments_lexer": "ipython3",
   "version": "3.8.8"
  }
 },
 "nbformat": 4,
 "nbformat_minor": 2
}
