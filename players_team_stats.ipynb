{
 "cells": [
  {
   "cell_type": "markdown",
   "metadata": {},
   "source": [
    "# Player Teams Dataset Statistics"
   ]
  },
  {
   "cell_type": "markdown",
   "metadata": {},
   "source": [
    "## Section: Import Data\n",
    "This section focuses on import libraries and players_teams dataset.\n",
    "The process involves:\n",
    "- import pandas and matplotlib.pyplot libraries\n",
    "- import players_teams dataset"
   ]
  },
  {
   "cell_type": "code",
   "execution_count": null,
   "metadata": {},
   "outputs": [],
   "source": [
    "import pandas as pd\n",
    "import matplotlib.pyplot as plt\n",
    "import seaborn as sns\n",
    "\n",
    "data = pd.read_csv('basketballPlayoffs/players_teams.csv', delimiter=\",\")"
   ]
  },
  {
   "cell_type": "markdown",
   "metadata": {},
   "source": [
    "## Section: Explore Dataset\n",
    "This section focuses on explore the dataset.\n",
    "The process involves:\n",
    "- Find null values\n",
    "- Calcule statistical data like percentile, mean and std of the numerical values "
   ]
  },
  {
   "cell_type": "code",
   "execution_count": null,
   "metadata": {},
   "outputs": [],
   "source": [
    "## finding null values\n",
    "data.isnull().sum()"
   ]
  },
  {
   "cell_type": "code",
   "execution_count": null,
   "metadata": {},
   "outputs": [],
   "source": [
    "# summary statistics\n",
    "data.describe()"
   ]
  },
  {
   "cell_type": "markdown",
   "metadata": {},
   "source": [
    "## Section: Statistics\n",
    "This section focuses on extraction of important statistics to analyse the dataset.\n",
    "The process involves:\n",
    "- Make a graphic of the teams with most points\n",
    "- Make a graphic of the teams with most post season games played\n",
    "- Make a graphic of the teams with most rebounds"
   ]
  },
  {
   "cell_type": "markdown",
   "metadata": {},
   "source": [
    "### Graphic Teams with the Most Points"
   ]
  },
  {
   "cell_type": "code",
   "execution_count": null,
   "metadata": {},
   "outputs": [],
   "source": [
    "team_points = data.groupby('tmID')['points'].sum()\n",
    "team_points = team_points.sort_values(ascending=False)\n",
    "\n",
    "plt.figure(figsize=(12,6))\n",
    "team_points.plot(kind='bar')\n",
    "plt.xlabel('Team')\n",
    "plt.ylabel('Total Points')\n",
    "plt.title('Teams with the most points')\n",
    "plt.xticks(rotation=0)\n",
    "plt.show()\n"
   ]
  },
  {
   "cell_type": "markdown",
   "metadata": {},
   "source": [
    "### Graphic Teams with the Most Post Games Played"
   ]
  },
  {
   "cell_type": "code",
   "execution_count": null,
   "metadata": {},
   "outputs": [],
   "source": [
    "team_postGP = data.groupby('tmID')['PostGP'].sum()\n",
    "team_postGP = team_postGP.sort_values(ascending=False)\n",
    "\n",
    "plt.figure(figsize=(12,6))\n",
    "team_postGP.plot(kind='bar')\n",
    "plt.xlabel('Team')\n",
    "plt.ylabel('Total Post Games Played')\n",
    "plt.title('Teams with the most post games played')\n",
    "plt.xticks(rotation=0)\n",
    "plt.show()"
   ]
  },
  {
   "cell_type": "markdown",
   "metadata": {},
   "source": [
    "### Graphic Teams with the Most Rebounds"
   ]
  },
  {
   "cell_type": "code",
   "execution_count": null,
   "metadata": {},
   "outputs": [],
   "source": [
    "team_rebounds = data.groupby('tmID')['rebounds'].sum()\n",
    "team_rebounds = team_rebounds.sort_values(ascending=False)\n",
    "\n",
    "plt.figure(figsize=(12,6))\n",
    "team_rebounds.plot(kind='bar')\n",
    "plt.xlabel('Team')\n",
    "plt.ylabel('Total Rebounds')\n",
    "plt.title('Teams with the most rebounds')\n",
    "plt.xticks(rotation=0)\n",
    "plt.show()"
   ]
  },
  {
   "cell_type": "markdown",
   "metadata": {},
   "source": [
    "## Section: Correlation Analysis\n",
    "This section focuses on analyse correlation between data on the dataset.\n",
    "The process involves:\n",
    "- Group stats by team\n",
    "- Make a correlation matrix"
   ]
  },
  {
   "cell_type": "code",
   "execution_count": null,
   "metadata": {},
   "outputs": [],
   "source": [
    "grouped_data = data.groupby('tmID')\n",
    "grouped_data.head()\n",
    "team_stats = grouped_data.agg({\n",
    "    'GP': 'sum',\n",
    "    'GS': 'sum',\n",
    "    'minutes': 'sum',\n",
    "    'points': 'sum',\n",
    "    'oRebounds': 'sum',\n",
    "    'dRebounds': 'sum',\n",
    "    'rebounds': 'sum',\n",
    "    'assists': 'sum',\n",
    "    'steals': 'sum',\n",
    "    'blocks': 'sum',\n",
    "    'turnovers': 'sum',\n",
    "    'PF': 'sum',\n",
    "    'fgAttempted': 'sum',\n",
    "    'fgMade': 'sum',\n",
    "    'ftAttempted': 'sum',\n",
    "    'ftMade': 'sum',\n",
    "    'threeAttempted': 'sum',\n",
    "    'threeMade': 'sum',\n",
    "    'dq': 'sum',\n",
    "    'PostGP': 'sum'\n",
    "})\n",
    "\n",
    "team_stats"
   ]
  },
  {
   "cell_type": "code",
   "execution_count": null,
   "metadata": {},
   "outputs": [],
   "source": [
    "# Calculate the correlation between points, rebounds, and another statistic\n",
    "correlation = team_stats[[\"GP\",\"GS\",\"minutes\",\"points\",\"oRebounds\",\"dRebounds\",\"rebounds\",\"assists\",\"steals\",\"blocks\",\"turnovers\",\"PF\",\"fgAttempted\",\"fgMade\",\"ftAttempted\",\"ftMade\",\"threeAttempted\",\"threeMade\",\"dq\",\"PostGP\"]].corr()\n",
    "\n",
    "print(correlation)\n",
    "\n",
    "# Create a heatmap\n",
    "plt.figure(figsize=(12, 10))  # Adjust the figure size as needed\n",
    "sns.heatmap(correlation, annot=True, cmap='coolwarm', fmt=\".2f\", linewidths=.5)\n",
    "\n",
    "# Customize heatmap appearance (optional)\n",
    "plt.title('Correlation Heatmap')\n",
    "plt.xticks(rotation=45)  # Rotate the x-axis labels for better readability\n",
    "plt.show()"
   ]
  }
 ],
 "metadata": {
  "kernelspec": {
   "display_name": "Python 3",
   "language": "python",
   "name": "python3"
  },
  "language_info": {
   "codemirror_mode": {
    "name": "ipython",
    "version": 3
   },
   "file_extension": ".py",
   "mimetype": "text/x-python",
   "name": "python",
   "nbconvert_exporter": "python",
   "pygments_lexer": "ipython3",
   "version": "3.9.13"
  }
 },
 "nbformat": 4,
 "nbformat_minor": 2
}
